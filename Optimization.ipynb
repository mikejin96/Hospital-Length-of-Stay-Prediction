{
 "cells": [
  {
   "cell_type": "code",
   "execution_count": 1,
   "metadata": {},
   "outputs": [],
   "source": [
    "using JuMP, Gurobi, DataFrames, CSV, StatsBase, MLDataUtils, Random"
   ]
  },
  {
   "cell_type": "markdown",
   "metadata": {},
   "source": [
    "### Sets:\n",
    "\n",
    "(1) $ i=1, \\cdots, I$: Patient\n",
    "\n",
    "(2) $ j=1, \\cdots, J$: Room\n",
    "\n",
    "(3) $ t=1, \\cdots, T$: Day\n",
    "\n",
    "### Parameters:\n",
    "\n",
    "\n",
    "(1) $l_{i}$: Expected length of stay (LOS) of ${patient}_{i}$\n",
    "\n",
    "(2) $g_{i}$: Gender of ${patient}_{i}$ such that: $g_{i} = 1$ if ${patient}_{i}$ is female, and $-1$ otherwise.\n",
    "\n",
    "(3) $c_{j}$: Capacity (beds) of ${room}_{j}$\n",
    "\n",
    "\n",
    "### Decision Variables:\n",
    "\n",
    "(1) $x_{i j t}$: Binary variable such that $x_{i j t} = 1$ if ${patient}_{i}$ stays in ${room}_{j}$ on ${day}_{t}$ and $0$ otherwise.\n",
    "\n",
    "(2) $y_{i j}$: Binary variable such that $y_{i j} = 1$ if ${patient}_{i}$ is assigned to ${room}_{j}$ and $0$ otherwise.\n",
    "\n",
    "\n",
    "### Formulation:\n",
    "\n",
    "$\n",
    "\\begin{array}{ll}\n",
    "{\\text { maximize }} & {\\sum_{i} \\sum_{j} \\sum_{t} x_{i j t}} \\quad {\\text {total number of beds utilized}} \\\\ {\\text { subject to }} & {\\sum_{j} y_{i j} \\leq 1 \\quad \\forall i} \\quad {\\text {a patient gets assigned for at most 1 room}} \\\\ {} & x_{i j t} \\leq y_{i j} \\quad \\forall i,j,t \\quad {\\text {patients only stay in the room assigned to them}} \\\\ {} & {\\sum_{j} \\sum_{t} x_{i j t}} = l_{i} \\cdot {\\sum_{j} y_{i j}} \\quad \\forall i \\quad {\\text {if assigned, enforce LOS; if not, enforce 0}} \\\\ {} & ({\\sum_{j} \\sum_{t=2}^{T} |x_{i j t} - x_{i j t-1}|}) + ({\\sum_{j} x_{i j 1} + x_{i j T}}) \\leq 2 \\quad \\forall i \\quad {\\text {stay needs to be consecutive}} \\\\ {} & {\\sum_{i} x_{i j t}} \\leq c_{j} \\quad \\forall j,t \\quad {\\text {room capacity constraint}} \\\\ {} & {\\sum_{i} x_{i j t}} \\leq |{\\sum_{i} g_{i} \\cdot x_{i j t}}| \\quad \\forall j,t \\quad {\\text {all patients in same room have same gender for a given day}}\n",
    "\\end{array}\n",
    "$"
   ]
  },
  {
   "cell_type": "markdown",
   "metadata": {},
   "source": [
    "### Linear Formulation:\n",
    "\n",
    "$\n",
    "\\begin{array}{ll}\n",
    "{\\text { maximize }} & {\\sum_{i} \\sum_{j} \\sum_{t} x_{i j t}} \\\\ {\\text { subject to }} & {\\sum_{j} y_{i j} \\leq 1 \\quad \\forall i} \\\\ {} & x_{i j t} \\leq y_{i j} \\quad \\forall i,j,t \\\\ {} & {\\sum_{j} \\sum_{t} x_{i j t}} = l_{i} \\cdot {\\sum_{j} y_{i j}} \\quad \\forall i \\\\ {} & {\\sum_{j} \\sum_{t=2}^{T} s_{i j t}} + {\\sum_{j} x_{i j 1} + x_{i j T}} \\leq 2 \\quad \\forall i \\\\ {} & s_{i j t} \\geq x_{i j t} - x_{i j t-1} \\quad \\forall i,j,t \\\\ {} & s_{i j t} \\geq x_{i j t-1} - x_{i j t}  \\quad \\forall i,j,t \\\\ {} & {\\sum_{i} x_{i j t}} \\leq c_{j} \\quad \\forall j,t \\\\ {} & {\\sum_{i} x_{i j t}} \\leq {\\sum_{i} g_{i} \\cdot x_{i j t}} + p_{j t} \\cdot M \\quad \\forall j,t \\\\ {} & {\\sum_{i} x_{i j t}} \\leq -{\\sum_{i} g_{i} \\cdot x_{i j t}} + (1-p_{j t}) \\cdot M \\quad \\forall j,t \\\\ {} & p_{j t} \\in \\{0, 1\\} \\quad \\forall j,t\n",
    "\\end{array}\n",
    "$"
   ]
  },
  {
   "cell_type": "code",
   "execution_count": 2,
   "metadata": {},
   "outputs": [],
   "source": [
    "# Mini Data\n",
    "LOS = [1,2,3,5,2,7,9,3,4,1] # patient length of stay\n",
    "CAP = [1,3] # room capacity\n",
    "G = [1, 1, 1, 1, 1, -1, -1, -1, -1, -1]; # gender, 1 = female, -1 = male"
   ]
  },
  {
   "cell_type": "code",
   "execution_count": 3,
   "metadata": {},
   "outputs": [
    {
     "name": "stdout",
     "output_type": "stream",
     "text": [
      "Academic license - for non-commercial use only\n"
     ]
    },
    {
     "data": {
      "text/plain": [
       "37.0"
      ]
     },
     "execution_count": 3,
     "metadata": {},
     "output_type": "execute_result"
    }
   ],
   "source": [
    "# Without Gender Constraint\n",
    "I = length(LOS)\n",
    "J = length(CAP)\n",
    "\n",
    "model = Model(solver=GurobiSolver(OutputFlag=0))\n",
    "\n",
    "@variable(model, x[1:I, 1:J, 1:T], Bin)\n",
    "@variable(model, y[1:I, 1:J], Bin)\n",
    "@variable(model, s[1:I, 1:J, 1:T])\n",
    "\n",
    "@constraint(model, [i=1:I], sum(y[i,j] for j=1:J) <= 1)\n",
    "@constraint(model, [i=1:I, j=1:J, t=1:T], x[i,j,t] <= y[i,j])\n",
    "@constraint(model, [i=1:I], sum(x[i,j,t] for j=1:J, t=1:T) == LOS[i]*sum(y[i,j] for j=1:J))\n",
    "\n",
    "@constraint(model, [i=1:I], sum(s[i,j,t] for j=1:J, t=2:T) + sum(x[i,j,1]+x[i,j,T] for j=1:J) <= 2)\n",
    "@constraint(model, [i=1:I, j=1:J, t=2:T], s[i,j,t] >= x[i,j,t] - x[i,j,t-1])\n",
    "@constraint(model, [i=1:I, j=1:J, t=2:T], s[i,j,t] >= x[i,j,t-1] - x[i,j,t])\n",
    "\n",
    "@constraint(model, [j=1:J, t=1:T], sum(x[i,j,t] for i=1:I) <= CAP[j])\n",
    "@objective(model, Max, sum(x[i,j,t] for i=1:I, j=1:J, t=1:T))\n",
    "solve(model)\n",
    "x = getvalue(x)\n",
    "y = getvalue(y)\n",
    "getobjectivevalue(model)"
   ]
  },
  {
   "cell_type": "code",
   "execution_count": 4,
   "metadata": {},
   "outputs": [
    {
     "name": "stdout",
     "output_type": "stream",
     "text": [
      "Academic license - for non-commercial use only\n"
     ]
    },
    {
     "data": {
      "text/plain": [
       "35.0"
      ]
     },
     "execution_count": 4,
     "metadata": {},
     "output_type": "execute_result"
    }
   ],
   "source": [
    "# With Gender Constraint\n",
    "I = length(LOS)\n",
    "J = length(CAP)\n",
    "\n",
    "model = Model(solver=GurobiSolver(OutputFlag=0))\n",
    "\n",
    "@variable(model, x[1:I, 1:J, 1:T], Bin)\n",
    "@variable(model, y[1:I, 1:J], Bin)\n",
    "@variable(model, s[1:I, 1:J, 1:T])\n",
    "@variable(model, p[1:J, 1:T], Bin)\n",
    "\n",
    "@constraint(model, [i=1:I], sum(y[i,j] for j=1:J) <= 1)\n",
    "@constraint(model, [i=1:I, j=1:J, t=1:T], x[i,j,t] <= y[i,j])\n",
    "@constraint(model, [i=1:I], sum(x[i,j,t] for j=1:J, t=1:T) == LOS[i]*sum(y[i,j] for j=1:J))\n",
    "\n",
    "@constraint(model, [i=1:I], sum(s[i,j,t] for j=1:J, t=2:T) + sum(x[i,j,1]+x[i,j,T] for j=1:J) <= 2)\n",
    "@constraint(model, [i=1:I, j=1:J, t=2:T], s[i,j,t] >= x[i,j,t] - x[i,j,t-1])\n",
    "@constraint(model, [i=1:I, j=1:J, t=2:T], s[i,j,t] >= x[i,j,t-1] - x[i,j,t])\n",
    "\n",
    "@constraint(model, [j=1:J, t=1:T], sum(G[i]*x[i,j,t] for i=1:I) + p[j,t]*10000 >= sum(x[i,j,t] for i=1:I))\n",
    "@constraint(model, [j=1:J, t=1:T], -sum(G[i]*x[i,j,t] for i=1:I) + (1-p[j,t])*10000 >= sum(x[i,j,t] for i=1:I))\n",
    "\n",
    "@constraint(model, [j=1:J, t=1:T], sum(x[i,j,t] for i=1:I) <= CAP[j])\n",
    "@objective(model, Max, sum(x[i,j,t] for i=1:I, j=1:J, t=1:T))\n",
    "solve(model)\n",
    "x = getvalue(x)\n",
    "y = getvalue(y)\n",
    "getobjectivevalue(model)"
   ]
  }
 ],
 "metadata": {
  "kernelspec": {
   "display_name": "Julia 1.2.0",
   "language": "julia",
   "name": "julia-1.2"
  },
  "language_info": {
   "file_extension": ".jl",
   "mimetype": "application/julia",
   "name": "julia",
   "version": "1.2.0"
  }
 },
 "nbformat": 4,
 "nbformat_minor": 2
}
