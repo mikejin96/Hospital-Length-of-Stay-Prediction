{
 "cells": [
  {
   "cell_type": "code",
   "execution_count": 275,
   "metadata": {},
   "outputs": [],
   "source": [
    "import pandas as pd\n",
    "import numpy as np\n",
    "import datetime as dt\n",
    "import re"
   ]
  },
  {
   "cell_type": "code",
   "execution_count": 475,
   "metadata": {},
   "outputs": [],
   "source": [
    "admissions = pd.read_csv(\"../Data/ADMISSIONS.csv\")\n",
    "icustays = pd.read_csv(\"../Data/ICUSTAYS.csv\")\n",
    "patients = pd.read_csv(\"../Data/PATIENTS.csv\")\n",
    "imputevents_mv = pd.read_csv(\"../Data/INPUTEVENTS_MV.csv\")\n",
    "diagnoses_icd = pd.read_csv(\"../Data/DIAGNOSES_ICD.csv\")"
   ]
  },
  {
   "cell_type": "code",
   "execution_count": 120,
   "metadata": {},
   "outputs": [],
   "source": [
    "def time_in_between(start, end, day_or_year = 'day'):\n",
    "    start = dt.datetime.strptime(start, '%Y-%m-%d %H:%M:%S')\n",
    "    end = dt.datetime.strptime(end, '%Y-%m-%d %H:%M:%S')\n",
    "    delta = end - start\n",
    "    if day_or_year == 'day':\n",
    "        return delta.days + delta.seconds / 86400\n",
    "    else:\n",
    "        return (delta.days + delta.seconds / 86400) / 365"
   ]
  },
  {
   "cell_type": "code",
   "execution_count": 467,
   "metadata": {},
   "outputs": [],
   "source": [
    "def one_hot_encoding(variable, data):\n",
    "    ohc = pd.get_dummies(data[variable].apply(pd.Series).stack()).sum(level=0)\n",
    "    data = pd.concat([data, ohc.iloc[:, :-1]], axis=1)\n",
    "    return data"
   ]
  },
  {
   "cell_type": "code",
   "execution_count": 328,
   "metadata": {},
   "outputs": [],
   "source": [
    "def translate_icd(icd):\n",
    "    if bool(re.search(r'[VE]', icd)):\n",
    "        return 'external_cause'\n",
    "    icd = eval(re.findall(r'[^0]\\d*', icd)[0])\n",
    "    if icd <= 139:\n",
    "        return 'parasitic_disease'\n",
    "    if icd <= 239:\n",
    "        return 'neoplasms'\n",
    "    if icd <= 279:\n",
    "        return 'metabolic_disease'\n",
    "    if icd <= 289:\n",
    "        return 'blood_disease'\n",
    "    if icd <= 319:\n",
    "        return 'mental_disorder'\n",
    "    if icd <= 389:\n",
    "        return 'nervous_system'\n",
    "    if icd <= 459:\n",
    "        return 'circulatory_system'\n",
    "    if icd <= 519:\n",
    "        return 'respiratory_system'\n",
    "    if icd <= 579:\n",
    "        return 'digestive_system'\n",
    "    if icd <= 629:\n",
    "        return 'genitourinary_system'\n",
    "    if icd <= 679:\n",
    "        return 'pregnancy'\n",
    "    if icd <= 709:\n",
    "        return 'skin_disease'\n",
    "    if icd <= 739:\n",
    "        return 'musculoskeletal_system'\n",
    "    if icd <= 759:\n",
    "        return 'congenital'\n",
    "    if icd <= 779:\n",
    "        return 'perinatal period'\n",
    "    if icd <= 799:\n",
    "        return 'ill_defined_condition'\n",
    "    if icd <= 999:\n",
    "        return 'injury'\n",
    "    return 'unknown'"
   ]
  },
  {
   "cell_type": "code",
   "execution_count": 476,
   "metadata": {},
   "outputs": [
    {
     "name": "stderr",
     "output_type": "stream",
     "text": [
      "/Users/mike/miniconda3/lib/python3.6/site-packages/ipykernel_launcher.py:25: SettingWithCopyWarning: \n",
      "A value is trying to be set on a copy of a slice from a DataFrame\n",
      "\n",
      "See the caveats in the documentation: http://pandas.pydata.org/pandas-docs/stable/indexing.html#indexing-view-versus-copy\n",
      "/Users/mike/miniconda3/lib/python3.6/site-packages/ipykernel_launcher.py:29: SettingWithCopyWarning: \n",
      "A value is trying to be set on a copy of a slice from a DataFrame\n",
      "\n",
      "See the caveats in the documentation: http://pandas.pydata.org/pandas-docs/stable/indexing.html#indexing-view-versus-copy\n",
      "/Users/mike/miniconda3/lib/python3.6/site-packages/ipykernel_launcher.py:33: SettingWithCopyWarning: \n",
      "A value is trying to be set on a copy of a slice from a DataFrame\n",
      "\n",
      "See the caveats in the documentation: http://pandas.pydata.org/pandas-docs/stable/indexing.html#indexing-view-versus-copy\n"
     ]
    }
   ],
   "source": [
    "data = pd.merge(admissions, icustays, on = ['HADM_ID', 'SUBJECT_ID'], how = 'left')\n",
    "data = data[~data.OUTTIME.isnull()]\n",
    "data = data[data.DEATHTIME.isnull()]\n",
    "data['TOTAL_LOS'] = [time_in_between(data.ADMITTIME.iloc[i], data.DISCHTIME.iloc[i], day_or_year = 'day') for i in range(len(data))]\n",
    "data['LOS_POST_ICU'] = [time_in_between(data.OUTTIME.iloc[i], data.DISCHTIME.iloc[i], day_or_year = 'day') for i in range(len(data))]\n",
    "data['LOS_POST_ICU'] = [0 if day < 0 else day for day in data['LOS_POST_ICU']]\n",
    "\n",
    "data = pd.merge(data, patients, on = 'SUBJECT_ID', how = 'left')\n",
    "data['AGE'] = [time_in_between(data.DOB.iloc[i], data.ADMITTIME.iloc[i], day_or_year = 'year') for i in range(len(data))]\n",
    "data['AGE'] = [age - 300 if age > 300 else age for age in data['AGE']]\n",
    "\n",
    "imputevents_mv = imputevents_mv[['SUBJECT_ID', 'PATIENTWEIGHT']]\n",
    "imputevents_mv['SID'] = imputevents_mv['SUBJECT_ID']\n",
    "imputevents_mv = imputevents_mv.groupby(['SID']).mean()\n",
    "data = pd.merge(data, imputevents_mv, on = 'SUBJECT_ID', how = 'left')\n",
    "\n",
    "diagnoses_icd = diagnoses_icd.dropna()\n",
    "diagnoses_icd['DIAGNOSES'] = [translate_icd(icd) for icd in diagnoses_icd.ICD9_CODE.str.slice(start=0, stop=3, step=1)]\n",
    "diagnoses_icd = diagnoses_icd.groupby(['SUBJECT_ID', 'HADM_ID'])['DIAGNOSES'].apply(','.join).reset_index()\n",
    "diagnoses_icd['DIAGNOSES'] = [d.split(',') for d in diagnoses_icd['DIAGNOSES']]\n",
    "diagnoses_ohc = pd.get_dummies(diagnoses_icd['DIAGNOSES'].apply(pd.Series).stack()).sum(level=0)\n",
    "diagnoses_icd = pd.concat([diagnoses_icd, diagnoses_ohc], axis=1)\n",
    "data = pd.merge(data, diagnoses_icd, on = ['HADM_ID', 'SUBJECT_ID'], how = 'left')\n",
    "\n",
    "data['LANGUAGE'][data['LANGUAGE'].isnull()] = 'nan'\n",
    "data['LANGUAGE'] = ['English' if 'ENGL' in lang \n",
    "                 else 'Unknown' if 'nan' in lang \n",
    "                 else 'Non-English' for lang in data['LANGUAGE']]\n",
    "data['RELIGION'][data['RELIGION'].isnull()] = 'UNOBTAINABLE'\n",
    "data['RELIGION'] = ['Unobtainable' if 'UNOBTAINABLE' in r\n",
    "                 else 'Not Specified' if 'NOT SPECIFIED' in r \n",
    "                 else 'Religious' for r in data['RELIGION']]\n",
    "data['MARITAL_STATUS'][data['MARITAL_STATUS'].isnull()] = 'UNKNOWN (DEFAULT)'\n",
    "data['ETHNICITY'].replace(regex = r'^WHITE\\D*', value = 'White', inplace=True)\n",
    "data['ETHNICITY'].replace(regex = r'^BLACK\\D*', value = 'Black', inplace=True)\n",
    "data['ETHNICITY'].replace(regex = r'^ASIAN\\D*', value = 'Asian', inplace=True)\n",
    "data['ETHNICITY'].replace(regex = r'^HISPANIC\\D*', value = 'Hispanic/Latino', inplace=True)\n",
    "data['ETHNICITY'] = [e if 'White' in e\n",
    "                  else e if 'Black' in e \n",
    "                  else e if 'Asian' in e\n",
    "                  else e if 'Hispanic/Latino' in e\n",
    "                  else 'Other/Unknown' for e in data['ETHNICITY']]\n",
    "\n",
    "data = one_hot_encoding('ADMISSION_TYPE', data)\n",
    "data = one_hot_encoding('ADMISSION_LOCATION', data)\n",
    "data = one_hot_encoding('INSURANCE', data)\n",
    "data = one_hot_encoding('LANGUAGE', data)\n",
    "data = one_hot_encoding('RELIGION', data)\n",
    "data = one_hot_encoding('MARITAL_STATUS', data)\n",
    "data = one_hot_encoding('ETHNICITY', data)\n",
    "data = one_hot_encoding('GENDER', data)\n",
    "\n",
    "\n",
    "data = data[['SUBJECT_ID', 'HADM_ID', 'ADMITTIME', 'DISCHTIME', 'ADMISSION_TYPE', 'ADMISSION_LOCATION', \n",
    "             'blood_disease', 'circulatory_system', 'congenital', 'digestive_system', 'external_cause', \n",
    "             'genitourinary_system', 'ill_defined_condition', 'injury', 'mental_disorder', 'metabolic_disease', \n",
    "             'musculoskeletal_system', 'neoplasms', 'nervous_system', 'parasitic_disease', 'perinatal period', \n",
    "             'pregnancy', 'respiratory_system', 'skin_disease', 'INSURANCE', 'LANGUAGE', 'RELIGION', \n",
    "             'MARITAL_STATUS', 'ETHNICITY', 'FIRST_CAREUNIT', 'LAST_CAREUNIT', 'FIRST_WARDID', 'LAST_WARDID', \n",
    "             'INTIME', 'OUTTIME', 'LOS','GENDER', 'AGE', 'PATIENTWEIGHT', 'ELECTIVE', 'EMERGENCY', 'NEWBORN', \n",
    "             '** INFO NOT AVAILABLE **', 'CLINIC REFERRAL/PREMATURE', 'EMERGENCY ROOM ADMIT', 'HMO REFERRAL/SICK',\n",
    "             'PHYS REFERRAL/NORMAL DELI', 'TRANSFER FROM HOSP/EXTRAM', 'TRANSFER FROM OTHER HEALT', \n",
    "             'TRANSFER FROM SKILLED NUR', 'Government', 'Medicaid', 'Medicare', 'Private', 'English', 'Non-English',\n",
    "             'Not Specified', 'Religious', 'DIVORCED', 'LIFE PARTNER', 'MARRIED', 'SEPARATED', 'SINGLE', 'UNKNOWN (DEFAULT)', \n",
    "             'Asian', 'Black', 'Hispanic/Latino', 'Other/Unknown', 'F', 'TOTAL_LOS', 'LOS_POST_ICU']]"
   ]
  },
  {
   "cell_type": "code",
   "execution_count": 491,
   "metadata": {},
   "outputs": [],
   "source": [
    "post_icu_df = data[['ADMISSION_TYPE', 'ADMISSION_LOCATION', 'blood_disease', 'circulatory_system', 'congenital', \n",
    "              'digestive_system', 'external_cause', 'genitourinary_system', 'ill_defined_condition', 'injury', \n",
    "              'mental_disorder', 'metabolic_disease', 'musculoskeletal_system', 'neoplasms', 'nervous_system', \n",
    "              'parasitic_disease', 'perinatal period', 'pregnancy', 'respiratory_system', 'skin_disease','INSURANCE', \n",
    "              'LANGUAGE', 'RELIGION', 'MARITAL_STATUS', 'ETHNICITY', 'FIRST_CAREUNIT', 'LAST_CAREUNIT', \n",
    "              'FIRST_WARDID', 'LAST_WARDID', 'LOS','GENDER', 'AGE', 'PATIENTWEIGHT', 'LOS_POST_ICU']]\n",
    "\n",
    "post_icu_df.columns = ['ADMISSION_TYPE', 'ADMISSION_LOCATION', 'blood_disease', 'circulatory_system', 'congenital', \n",
    "              'digestive_system', 'external_cause', 'genitourinary_system', 'ill_defined_condition', 'injury', \n",
    "              'mental_disorder', 'metabolic_disease', 'musculoskeletal_system', 'neoplasms', 'nervous_system', \n",
    "              'parasitic_disease', 'perinatal period', 'pregnancy', 'respiratory_system', 'skin_disease','INSURANCE', \n",
    "              'LANGUAGE', 'RELIGION', 'MARITAL_STATUS', 'ETHNICITY', 'FIRST_CAREUNIT', 'LAST_CAREUNIT', \n",
    "              'FIRST_WARDID', 'LAST_WARDID', 'LOS_ICU','GENDER', 'AGE', 'PATIENTWEIGHT', 'LOS_POST_ICU']\n",
    "\n",
    "los_df = data[['ADMISSION_TYPE', 'ADMISSION_LOCATION', 'blood_disease', 'circulatory_system', 'congenital', \n",
    "              'digestive_system', 'external_cause', 'genitourinary_system', 'ill_defined_condition', 'injury', \n",
    "              'mental_disorder', 'metabolic_disease', 'musculoskeletal_system', 'neoplasms', 'nervous_system', \n",
    "              'parasitic_disease', 'perinatal period', 'pregnancy', 'respiratory_system', 'skin_disease','INSURANCE', \n",
    "              'LANGUAGE', 'RELIGION', 'MARITAL_STATUS', 'ETHNICITY','GENDER', 'AGE', 'PATIENTWEIGHT', 'TOTAL_LOS']]"
   ]
  },
  {
   "cell_type": "code",
   "execution_count": 482,
   "metadata": {},
   "outputs": [],
   "source": [
    "los_df_ohc = data[['ELECTIVE', 'EMERGENCY', 'NEWBORN', '** INFO NOT AVAILABLE **', 'CLINIC REFERRAL/PREMATURE', \n",
    "                   'EMERGENCY ROOM ADMIT', 'HMO REFERRAL/SICK', 'PHYS REFERRAL/NORMAL DELI', 'TRANSFER FROM HOSP/EXTRAM',\n",
    "                   'TRANSFER FROM OTHER HEALT', 'TRANSFER FROM SKILLED NUR',  'blood_disease', 'circulatory_system',\n",
    "                   'congenital', 'digestive_system', 'external_cause', 'genitourinary_system', 'ill_defined_condition', \n",
    "                   'injury', 'mental_disorder', 'metabolic_disease', 'musculoskeletal_system', 'neoplasms', 'nervous_system', \n",
    "                   'parasitic_disease', 'perinatal period', 'pregnancy', 'respiratory_system', 'skin_disease',\n",
    "                   'Government', 'Medicaid', 'Medicare', 'Private', 'English', 'Non-English', 'Not Specified', \n",
    "                   'Religious', 'DIVORCED', 'LIFE PARTNER', 'MARRIED', 'SEPARATED', 'SINGLE', 'UNKNOWN (DEFAULT)', 'Asian', \n",
    "                   'Black', 'Hispanic/Latino', 'Other/Unknown', 'F', 'AGE', 'PATIENTWEIGHT', 'TOTAL_LOS']]"
   ]
  },
  {
   "cell_type": "code",
   "execution_count": 493,
   "metadata": {},
   "outputs": [],
   "source": [
    "post_icu_df.to_csv(\"Model_Data_V1.csv\")\n",
    "los_df.to_csv(\"Model_Data_V3.csv\")\n",
    "los_df_ohc.to_csv(\"Model_Data_V3_ohc.csv\")"
   ]
  }
 ],
 "metadata": {
  "kernelspec": {
   "display_name": "Python 3",
   "language": "python",
   "name": "python3"
  },
  "language_info": {
   "codemirror_mode": {
    "name": "ipython",
    "version": 3
   },
   "file_extension": ".py",
   "mimetype": "text/x-python",
   "name": "python",
   "nbconvert_exporter": "python",
   "pygments_lexer": "ipython3",
   "version": "3.7.3"
  }
 },
 "nbformat": 4,
 "nbformat_minor": 2
}
